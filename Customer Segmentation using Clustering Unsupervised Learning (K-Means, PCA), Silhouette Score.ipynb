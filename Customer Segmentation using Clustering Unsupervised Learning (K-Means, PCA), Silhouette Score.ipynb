{
  "nbformat": 4,
  "nbformat_minor": 0,
  "metadata": {
    "colab": {
      "provenance": [],
      "authorship_tag": "ABX9TyOoLNcomHuierbNLG0nvI/I",
      "include_colab_link": true
    },
    "kernelspec": {
      "name": "python3",
      "display_name": "Python 3"
    },
    "language_info": {
      "name": "python"
    }
  },
  "cells": [
    {
      "cell_type": "markdown",
      "metadata": {
        "id": "view-in-github",
        "colab_type": "text"
      },
      "source": [
        "<a href=\"https://colab.research.google.com/github/Vandanasharma-1/Personal-Project-Practice-ML-/blob/main/Customer%20Segmentation%20using%20Clustering%20Unsupervised%20Learning%20(K-Means%2C%20PCA)%2C%20Silhouette%20Score.ipynb\" target=\"_parent\"><img src=\"https://colab.research.google.com/assets/colab-badge.svg\" alt=\"Open In Colab\"/></a>"
      ]
    },
    {
      "cell_type": "code",
      "execution_count": 1,
      "metadata": {
        "id": "y1WaDsGrCWPg"
      },
      "outputs": [],
      "source": [
        "import numpy as np\n",
        "import pandas as pd"
      ]
    },
    {
      "cell_type": "code",
      "source": [
        "import matplotlib.pyplot as plt\n",
        "import seaborn as sns"
      ],
      "metadata": {
        "id": "vUAbb9qUIcOT"
      },
      "execution_count": 2,
      "outputs": []
    },
    {
      "cell_type": "code",
      "source": [
        "from sklearn.datasets import make_blobs"
      ],
      "metadata": {
        "id": "Ib6s-nueIrAv"
      },
      "execution_count": 3,
      "outputs": []
    },
    {
      "cell_type": "code",
      "source": [
        "# Set a style for the plots\n",
        "sns.set_style(\"whitegrid\")\n",
        "sns.set_palette(\"tab10\")"
      ],
      "metadata": {
        "id": "VBJGCnBRJCJY"
      },
      "execution_count": 4,
      "outputs": []
    },
    {
      "cell_type": "code",
      "source": [
        "print(\"Generating synthetic customer data...\")"
      ],
      "metadata": {
        "colab": {
          "base_uri": "https://localhost:8080/"
        },
        "id": "Geyj-sRMJZoD",
        "outputId": "80201c6b-38aa-46b1-a78b-348b4d1db1ba"
      },
      "execution_count": 5,
      "outputs": [
        {
          "output_type": "stream",
          "name": "stdout",
          "text": [
            "Generating synthetic customer data...\n"
          ]
        }
      ]
    },
    {
      "cell_type": "code",
      "source": [
        "# We use make_blobs to create a dataset with 5 features and 3 clear clusters.\n",
        "# n_samples=500: We will have 500 data points.\n",
        "# n_features=5: Each data point will have 5 features (e.g., spending in different categories).\n",
        "# centers=3: The data will be generated around 3 distinct centers, creating 3 clusters.\n",
        "# cluster_std=1.5: This controls the standard deviation of the clusters (how spread out they are).\n",
        "# random_state=42: Ensures we get the same data every time we run the code.\n",
        "X, y_true = make_blobs(n_samples=500, centers=3,\n",
        "                       n_features=5, cluster_std=1.5,\n",
        "                       random_state=42)"
      ],
      "metadata": {
        "id": "eWYPz19NJxCg"
      },
      "execution_count": 6,
      "outputs": []
    },
    {
      "cell_type": "code",
      "source": [
        "# Create a Pandas DataFrame for better data handling\n",
        "customer_data=pd.DataFrame(X, columns=['Feature_1', 'Feature_2', 'Feature_3', 'Feature_4', 'Feature_5'])\n",
        "customer_data['CustomerID']=range(1, len(customer_data)+1)"
      ],
      "metadata": {
        "id": "qe_dtGEMKPu_"
      },
      "execution_count": 7,
      "outputs": []
    },
    {
      "cell_type": "code",
      "source": [
        "customer_data.head()"
      ],
      "metadata": {
        "colab": {
          "base_uri": "https://localhost:8080/",
          "height": 206
        },
        "id": "4oUteXCiKQv-",
        "outputId": "5868daee-1277-47c5-bac3-b5a2fca1f47a"
      },
      "execution_count": 8,
      "outputs": [
        {
          "output_type": "execute_result",
          "data": {
            "text/plain": [
              "   Feature_1  Feature_2  Feature_3  Feature_4  Feature_5  CustomerID\n",
              "0  -9.857126   9.521966   6.406806  -6.817576  -7.860545           1\n",
              "1  -8.047178   8.402616   6.409461  -4.335760  -6.702892           2\n",
              "2  -3.736909   6.760139   4.248776   0.285041  -7.103182           3\n",
              "3  -7.706532  -8.765750   6.292208   1.825926   2.609019           4\n",
              "4  -8.202067   8.764247   7.663750  -6.557157  -5.553464           5"
            ],
            "text/html": [
              "\n",
              "  <div id=\"df-71a6f9d5-6f53-47e9-a730-3539c5c56eed\" class=\"colab-df-container\">\n",
              "    <div>\n",
              "<style scoped>\n",
              "    .dataframe tbody tr th:only-of-type {\n",
              "        vertical-align: middle;\n",
              "    }\n",
              "\n",
              "    .dataframe tbody tr th {\n",
              "        vertical-align: top;\n",
              "    }\n",
              "\n",
              "    .dataframe thead th {\n",
              "        text-align: right;\n",
              "    }\n",
              "</style>\n",
              "<table border=\"1\" class=\"dataframe\">\n",
              "  <thead>\n",
              "    <tr style=\"text-align: right;\">\n",
              "      <th></th>\n",
              "      <th>Feature_1</th>\n",
              "      <th>Feature_2</th>\n",
              "      <th>Feature_3</th>\n",
              "      <th>Feature_4</th>\n",
              "      <th>Feature_5</th>\n",
              "      <th>CustomerID</th>\n",
              "    </tr>\n",
              "  </thead>\n",
              "  <tbody>\n",
              "    <tr>\n",
              "      <th>0</th>\n",
              "      <td>-9.857126</td>\n",
              "      <td>9.521966</td>\n",
              "      <td>6.406806</td>\n",
              "      <td>-6.817576</td>\n",
              "      <td>-7.860545</td>\n",
              "      <td>1</td>\n",
              "    </tr>\n",
              "    <tr>\n",
              "      <th>1</th>\n",
              "      <td>-8.047178</td>\n",
              "      <td>8.402616</td>\n",
              "      <td>6.409461</td>\n",
              "      <td>-4.335760</td>\n",
              "      <td>-6.702892</td>\n",
              "      <td>2</td>\n",
              "    </tr>\n",
              "    <tr>\n",
              "      <th>2</th>\n",
              "      <td>-3.736909</td>\n",
              "      <td>6.760139</td>\n",
              "      <td>4.248776</td>\n",
              "      <td>0.285041</td>\n",
              "      <td>-7.103182</td>\n",
              "      <td>3</td>\n",
              "    </tr>\n",
              "    <tr>\n",
              "      <th>3</th>\n",
              "      <td>-7.706532</td>\n",
              "      <td>-8.765750</td>\n",
              "      <td>6.292208</td>\n",
              "      <td>1.825926</td>\n",
              "      <td>2.609019</td>\n",
              "      <td>4</td>\n",
              "    </tr>\n",
              "    <tr>\n",
              "      <th>4</th>\n",
              "      <td>-8.202067</td>\n",
              "      <td>8.764247</td>\n",
              "      <td>7.663750</td>\n",
              "      <td>-6.557157</td>\n",
              "      <td>-5.553464</td>\n",
              "      <td>5</td>\n",
              "    </tr>\n",
              "  </tbody>\n",
              "</table>\n",
              "</div>\n",
              "    <div class=\"colab-df-buttons\">\n",
              "\n",
              "  <div class=\"colab-df-container\">\n",
              "    <button class=\"colab-df-convert\" onclick=\"convertToInteractive('df-71a6f9d5-6f53-47e9-a730-3539c5c56eed')\"\n",
              "            title=\"Convert this dataframe to an interactive table.\"\n",
              "            style=\"display:none;\">\n",
              "\n",
              "  <svg xmlns=\"http://www.w3.org/2000/svg\" height=\"24px\" viewBox=\"0 -960 960 960\">\n",
              "    <path d=\"M120-120v-720h720v720H120Zm60-500h600v-160H180v160Zm220 220h160v-160H400v160Zm0 220h160v-160H400v160ZM180-400h160v-160H180v160Zm440 0h160v-160H620v160ZM180-180h160v-160H180v160Zm440 0h160v-160H620v160Z\"/>\n",
              "  </svg>\n",
              "    </button>\n",
              "\n",
              "  <style>\n",
              "    .colab-df-container {\n",
              "      display:flex;\n",
              "      gap: 12px;\n",
              "    }\n",
              "\n",
              "    .colab-df-convert {\n",
              "      background-color: #E8F0FE;\n",
              "      border: none;\n",
              "      border-radius: 50%;\n",
              "      cursor: pointer;\n",
              "      display: none;\n",
              "      fill: #1967D2;\n",
              "      height: 32px;\n",
              "      padding: 0 0 0 0;\n",
              "      width: 32px;\n",
              "    }\n",
              "\n",
              "    .colab-df-convert:hover {\n",
              "      background-color: #E2EBFA;\n",
              "      box-shadow: 0px 1px 2px rgba(60, 64, 67, 0.3), 0px 1px 3px 1px rgba(60, 64, 67, 0.15);\n",
              "      fill: #174EA6;\n",
              "    }\n",
              "\n",
              "    .colab-df-buttons div {\n",
              "      margin-bottom: 4px;\n",
              "    }\n",
              "\n",
              "    [theme=dark] .colab-df-convert {\n",
              "      background-color: #3B4455;\n",
              "      fill: #D2E3FC;\n",
              "    }\n",
              "\n",
              "    [theme=dark] .colab-df-convert:hover {\n",
              "      background-color: #434B5C;\n",
              "      box-shadow: 0px 1px 3px 1px rgba(0, 0, 0, 0.15);\n",
              "      filter: drop-shadow(0px 1px 2px rgba(0, 0, 0, 0.3));\n",
              "      fill: #FFFFFF;\n",
              "    }\n",
              "  </style>\n",
              "\n",
              "    <script>\n",
              "      const buttonEl =\n",
              "        document.querySelector('#df-71a6f9d5-6f53-47e9-a730-3539c5c56eed button.colab-df-convert');\n",
              "      buttonEl.style.display =\n",
              "        google.colab.kernel.accessAllowed ? 'block' : 'none';\n",
              "\n",
              "      async function convertToInteractive(key) {\n",
              "        const element = document.querySelector('#df-71a6f9d5-6f53-47e9-a730-3539c5c56eed');\n",
              "        const dataTable =\n",
              "          await google.colab.kernel.invokeFunction('convertToInteractive',\n",
              "                                                    [key], {});\n",
              "        if (!dataTable) return;\n",
              "\n",
              "        const docLinkHtml = 'Like what you see? Visit the ' +\n",
              "          '<a target=\"_blank\" href=https://colab.research.google.com/notebooks/data_table.ipynb>data table notebook</a>'\n",
              "          + ' to learn more about interactive tables.';\n",
              "        element.innerHTML = '';\n",
              "        dataTable['output_type'] = 'display_data';\n",
              "        await google.colab.output.renderOutput(dataTable, element);\n",
              "        const docLink = document.createElement('div');\n",
              "        docLink.innerHTML = docLinkHtml;\n",
              "        element.appendChild(docLink);\n",
              "      }\n",
              "    </script>\n",
              "  </div>\n",
              "\n",
              "\n",
              "    <div id=\"df-b9da887b-c79d-4a22-b67f-13a7b6456117\">\n",
              "      <button class=\"colab-df-quickchart\" onclick=\"quickchart('df-b9da887b-c79d-4a22-b67f-13a7b6456117')\"\n",
              "                title=\"Suggest charts\"\n",
              "                style=\"display:none;\">\n",
              "\n",
              "<svg xmlns=\"http://www.w3.org/2000/svg\" height=\"24px\"viewBox=\"0 0 24 24\"\n",
              "     width=\"24px\">\n",
              "    <g>\n",
              "        <path d=\"M19 3H5c-1.1 0-2 .9-2 2v14c0 1.1.9 2 2 2h14c1.1 0 2-.9 2-2V5c0-1.1-.9-2-2-2zM9 17H7v-7h2v7zm4 0h-2V7h2v10zm4 0h-2v-4h2v4z\"/>\n",
              "    </g>\n",
              "</svg>\n",
              "      </button>\n",
              "\n",
              "<style>\n",
              "  .colab-df-quickchart {\n",
              "      --bg-color: #E8F0FE;\n",
              "      --fill-color: #1967D2;\n",
              "      --hover-bg-color: #E2EBFA;\n",
              "      --hover-fill-color: #174EA6;\n",
              "      --disabled-fill-color: #AAA;\n",
              "      --disabled-bg-color: #DDD;\n",
              "  }\n",
              "\n",
              "  [theme=dark] .colab-df-quickchart {\n",
              "      --bg-color: #3B4455;\n",
              "      --fill-color: #D2E3FC;\n",
              "      --hover-bg-color: #434B5C;\n",
              "      --hover-fill-color: #FFFFFF;\n",
              "      --disabled-bg-color: #3B4455;\n",
              "      --disabled-fill-color: #666;\n",
              "  }\n",
              "\n",
              "  .colab-df-quickchart {\n",
              "    background-color: var(--bg-color);\n",
              "    border: none;\n",
              "    border-radius: 50%;\n",
              "    cursor: pointer;\n",
              "    display: none;\n",
              "    fill: var(--fill-color);\n",
              "    height: 32px;\n",
              "    padding: 0;\n",
              "    width: 32px;\n",
              "  }\n",
              "\n",
              "  .colab-df-quickchart:hover {\n",
              "    background-color: var(--hover-bg-color);\n",
              "    box-shadow: 0 1px 2px rgba(60, 64, 67, 0.3), 0 1px 3px 1px rgba(60, 64, 67, 0.15);\n",
              "    fill: var(--button-hover-fill-color);\n",
              "  }\n",
              "\n",
              "  .colab-df-quickchart-complete:disabled,\n",
              "  .colab-df-quickchart-complete:disabled:hover {\n",
              "    background-color: var(--disabled-bg-color);\n",
              "    fill: var(--disabled-fill-color);\n",
              "    box-shadow: none;\n",
              "  }\n",
              "\n",
              "  .colab-df-spinner {\n",
              "    border: 2px solid var(--fill-color);\n",
              "    border-color: transparent;\n",
              "    border-bottom-color: var(--fill-color);\n",
              "    animation:\n",
              "      spin 1s steps(1) infinite;\n",
              "  }\n",
              "\n",
              "  @keyframes spin {\n",
              "    0% {\n",
              "      border-color: transparent;\n",
              "      border-bottom-color: var(--fill-color);\n",
              "      border-left-color: var(--fill-color);\n",
              "    }\n",
              "    20% {\n",
              "      border-color: transparent;\n",
              "      border-left-color: var(--fill-color);\n",
              "      border-top-color: var(--fill-color);\n",
              "    }\n",
              "    30% {\n",
              "      border-color: transparent;\n",
              "      border-left-color: var(--fill-color);\n",
              "      border-top-color: var(--fill-color);\n",
              "      border-right-color: var(--fill-color);\n",
              "    }\n",
              "    40% {\n",
              "      border-color: transparent;\n",
              "      border-right-color: var(--fill-color);\n",
              "      border-top-color: var(--fill-color);\n",
              "    }\n",
              "    60% {\n",
              "      border-color: transparent;\n",
              "      border-right-color: var(--fill-color);\n",
              "    }\n",
              "    80% {\n",
              "      border-color: transparent;\n",
              "      border-right-color: var(--fill-color);\n",
              "      border-bottom-color: var(--fill-color);\n",
              "    }\n",
              "    90% {\n",
              "      border-color: transparent;\n",
              "      border-bottom-color: var(--fill-color);\n",
              "    }\n",
              "  }\n",
              "</style>\n",
              "\n",
              "      <script>\n",
              "        async function quickchart(key) {\n",
              "          const quickchartButtonEl =\n",
              "            document.querySelector('#' + key + ' button');\n",
              "          quickchartButtonEl.disabled = true;  // To prevent multiple clicks.\n",
              "          quickchartButtonEl.classList.add('colab-df-spinner');\n",
              "          try {\n",
              "            const charts = await google.colab.kernel.invokeFunction(\n",
              "                'suggestCharts', [key], {});\n",
              "          } catch (error) {\n",
              "            console.error('Error during call to suggestCharts:', error);\n",
              "          }\n",
              "          quickchartButtonEl.classList.remove('colab-df-spinner');\n",
              "          quickchartButtonEl.classList.add('colab-df-quickchart-complete');\n",
              "        }\n",
              "        (() => {\n",
              "          let quickchartButtonEl =\n",
              "            document.querySelector('#df-b9da887b-c79d-4a22-b67f-13a7b6456117 button');\n",
              "          quickchartButtonEl.style.display =\n",
              "            google.colab.kernel.accessAllowed ? 'block' : 'none';\n",
              "        })();\n",
              "      </script>\n",
              "    </div>\n",
              "\n",
              "    </div>\n",
              "  </div>\n"
            ],
            "application/vnd.google.colaboratory.intrinsic+json": {
              "type": "dataframe",
              "variable_name": "customer_data",
              "summary": "{\n  \"name\": \"customer_data\",\n  \"rows\": 500,\n  \"fields\": [\n    {\n      \"column\": \"Feature_1\",\n      \"properties\": {\n        \"dtype\": \"number\",\n        \"std\": 3.3068611868122586,\n        \"min\": -14.795454951991525,\n        \"max\": 2.5492467573872597,\n        \"num_unique_values\": 500,\n        \"samples\": [\n          -0.849703965810086,\n          -9.752964369808165,\n          -5.322526459674029\n        ],\n        \"semantic_type\": \"\",\n        \"description\": \"\"\n      }\n    },\n    {\n      \"column\": \"Feature_2\",\n      \"properties\": {\n        \"dtype\": \"number\",\n        \"std\": 8.556070861214248,\n        \"min\": -12.252888019524015,\n        \"max\": 12.83452292935803,\n        \"num_unique_values\": 500,\n        \"samples\": [\n          10.171743352150326,\n          10.144424929198372,\n          -8.08019161681096\n        ],\n        \"semantic_type\": \"\",\n        \"description\": \"\"\n      }\n    },\n    {\n      \"column\": \"Feature_3\",\n      \"properties\": {\n        \"dtype\": \"number\",\n        \"std\": 1.9085337027619333,\n        \"min\": 0.5284465695385485,\n        \"max\": 11.771038443079787,\n        \"num_unique_values\": 500,\n        \"samples\": [\n          3.5548702125512506,\n          6.070777824720612,\n          9.287732260024772\n        ],\n        \"semantic_type\": \"\",\n        \"description\": \"\"\n      }\n    },\n    {\n      \"column\": \"Feature_4\",\n      \"properties\": {\n        \"dtype\": \"number\",\n        \"std\": 3.961939807787129,\n        \"min\": -9.216993383361775,\n        \"max\": 6.140639246269393,\n        \"num_unique_values\": 500,\n        \"samples\": [\n          5.6239418015443565,\n          -5.122539070563139,\n          1.1700867401126738\n        ],\n        \"semantic_type\": \"\",\n        \"description\": \"\"\n      }\n    },\n    {\n      \"column\": \"Feature_5\",\n      \"properties\": {\n        \"dtype\": \"number\",\n        \"std\": 5.268012607542356,\n        \"min\": -10.43420930537794,\n        \"max\": 8.568080826672569,\n        \"num_unique_values\": 500,\n        \"samples\": [\n          -9.534991973664109,\n          -7.660087262229259,\n          1.4152988833286098\n        ],\n        \"semantic_type\": \"\",\n        \"description\": \"\"\n      }\n    },\n    {\n      \"column\": \"CustomerID\",\n      \"properties\": {\n        \"dtype\": \"number\",\n        \"std\": 144,\n        \"min\": 1,\n        \"max\": 500,\n        \"num_unique_values\": 500,\n        \"samples\": [\n          362,\n          74,\n          375\n        ],\n        \"semantic_type\": \"\",\n        \"description\": \"\"\n      }\n    }\n  ]\n}"
            }
          },
          "metadata": {},
          "execution_count": 8
        }
      ]
    },
    {
      "cell_type": "code",
      "source": [
        "print(\"Synthetic data generated successfully\")\n",
        "print(\"\\nFirst 5 rows of the data:\")\n",
        "print(customer_data.head())\n",
        "print(f\"\\nShape of the dataset: {customer_data.shape}\")"
      ],
      "metadata": {
        "colab": {
          "base_uri": "https://localhost:8080/"
        },
        "id": "_XKefiI5LriV",
        "outputId": "22891f37-0ba6-489f-b7e6-53fb505285ed"
      },
      "execution_count": 9,
      "outputs": [
        {
          "output_type": "stream",
          "name": "stdout",
          "text": [
            "Synthetic data generated successfully\n",
            "\n",
            "First 5 rows of the data:\n",
            "   Feature_1  Feature_2  Feature_3  Feature_4  Feature_5  CustomerID\n",
            "0  -9.857126   9.521966   6.406806  -6.817576  -7.860545           1\n",
            "1  -8.047178   8.402616   6.409461  -4.335760  -6.702892           2\n",
            "2  -3.736909   6.760139   4.248776   0.285041  -7.103182           3\n",
            "3  -7.706532  -8.765750   6.292208   1.825926   2.609019           4\n",
            "4  -8.202067   8.764247   7.663750  -6.557157  -5.553464           5\n",
            "\n",
            "Shape of the dataset: (500, 6)\n"
          ]
        }
      ]
    },
    {
      "cell_type": "markdown",
      "source": [
        "## Data Preprocessing with scaling"
      ],
      "metadata": {
        "id": "mFUvGy9rMpXk"
      }
    },
    {
      "cell_type": "code",
      "source": [
        "from sklearn.preprocessing import StandardScaler"
      ],
      "metadata": {
        "id": "GdDBMS9vMQUr"
      },
      "execution_count": 10,
      "outputs": []
    },
    {
      "cell_type": "code",
      "source": [
        "# --- 2. Data Preprocessing (Feature Scaling) ---\n",
        "# It is crucial to scale the features before applying K-Means.\n",
        "# This is because K-Means is a distance-based algorithm, and features with\n",
        "# larger magnitudes can disproportionately influence the result.\n",
        "print(\"\\nScaling the data using StandardScaler...\")"
      ],
      "metadata": {
        "colab": {
          "base_uri": "https://localhost:8080/"
        },
        "id": "ae71d9z0M69Q",
        "outputId": "aac2c053-d57d-4787-e0c4-896f21bf614a"
      },
      "execution_count": 11,
      "outputs": [
        {
          "output_type": "stream",
          "name": "stdout",
          "text": [
            "\n",
            "Scaling the data using StandardScaler...\n"
          ]
        }
      ]
    },
    {
      "cell_type": "code",
      "source": [
        "# Select the features for clustering (excluding CustomerID)\n",
        "features_to_cluster=customer_data.drop('CustomerID', axis=1)"
      ],
      "metadata": {
        "id": "_Qfw8scENJa6"
      },
      "execution_count": 12,
      "outputs": []
    },
    {
      "cell_type": "code",
      "source": [
        "features_to_cluster.head()"
      ],
      "metadata": {
        "colab": {
          "base_uri": "https://localhost:8080/",
          "height": 206
        },
        "id": "3PdQAy_ZN-M9",
        "outputId": "7486a517-8acc-4236-bd9c-4053aaa4360f"
      },
      "execution_count": 13,
      "outputs": [
        {
          "output_type": "execute_result",
          "data": {
            "text/plain": [
              "   Feature_1  Feature_2  Feature_3  Feature_4  Feature_5\n",
              "0  -9.857126   9.521966   6.406806  -6.817576  -7.860545\n",
              "1  -8.047178   8.402616   6.409461  -4.335760  -6.702892\n",
              "2  -3.736909   6.760139   4.248776   0.285041  -7.103182\n",
              "3  -7.706532  -8.765750   6.292208   1.825926   2.609019\n",
              "4  -8.202067   8.764247   7.663750  -6.557157  -5.553464"
            ],
            "text/html": [
              "\n",
              "  <div id=\"df-ea418e38-56e3-4bcb-a351-e7a83137d479\" class=\"colab-df-container\">\n",
              "    <div>\n",
              "<style scoped>\n",
              "    .dataframe tbody tr th:only-of-type {\n",
              "        vertical-align: middle;\n",
              "    }\n",
              "\n",
              "    .dataframe tbody tr th {\n",
              "        vertical-align: top;\n",
              "    }\n",
              "\n",
              "    .dataframe thead th {\n",
              "        text-align: right;\n",
              "    }\n",
              "</style>\n",
              "<table border=\"1\" class=\"dataframe\">\n",
              "  <thead>\n",
              "    <tr style=\"text-align: right;\">\n",
              "      <th></th>\n",
              "      <th>Feature_1</th>\n",
              "      <th>Feature_2</th>\n",
              "      <th>Feature_3</th>\n",
              "      <th>Feature_4</th>\n",
              "      <th>Feature_5</th>\n",
              "    </tr>\n",
              "  </thead>\n",
              "  <tbody>\n",
              "    <tr>\n",
              "      <th>0</th>\n",
              "      <td>-9.857126</td>\n",
              "      <td>9.521966</td>\n",
              "      <td>6.406806</td>\n",
              "      <td>-6.817576</td>\n",
              "      <td>-7.860545</td>\n",
              "    </tr>\n",
              "    <tr>\n",
              "      <th>1</th>\n",
              "      <td>-8.047178</td>\n",
              "      <td>8.402616</td>\n",
              "      <td>6.409461</td>\n",
              "      <td>-4.335760</td>\n",
              "      <td>-6.702892</td>\n",
              "    </tr>\n",
              "    <tr>\n",
              "      <th>2</th>\n",
              "      <td>-3.736909</td>\n",
              "      <td>6.760139</td>\n",
              "      <td>4.248776</td>\n",
              "      <td>0.285041</td>\n",
              "      <td>-7.103182</td>\n",
              "    </tr>\n",
              "    <tr>\n",
              "      <th>3</th>\n",
              "      <td>-7.706532</td>\n",
              "      <td>-8.765750</td>\n",
              "      <td>6.292208</td>\n",
              "      <td>1.825926</td>\n",
              "      <td>2.609019</td>\n",
              "    </tr>\n",
              "    <tr>\n",
              "      <th>4</th>\n",
              "      <td>-8.202067</td>\n",
              "      <td>8.764247</td>\n",
              "      <td>7.663750</td>\n",
              "      <td>-6.557157</td>\n",
              "      <td>-5.553464</td>\n",
              "    </tr>\n",
              "  </tbody>\n",
              "</table>\n",
              "</div>\n",
              "    <div class=\"colab-df-buttons\">\n",
              "\n",
              "  <div class=\"colab-df-container\">\n",
              "    <button class=\"colab-df-convert\" onclick=\"convertToInteractive('df-ea418e38-56e3-4bcb-a351-e7a83137d479')\"\n",
              "            title=\"Convert this dataframe to an interactive table.\"\n",
              "            style=\"display:none;\">\n",
              "\n",
              "  <svg xmlns=\"http://www.w3.org/2000/svg\" height=\"24px\" viewBox=\"0 -960 960 960\">\n",
              "    <path d=\"M120-120v-720h720v720H120Zm60-500h600v-160H180v160Zm220 220h160v-160H400v160Zm0 220h160v-160H400v160ZM180-400h160v-160H180v160Zm440 0h160v-160H620v160ZM180-180h160v-160H180v160Zm440 0h160v-160H620v160Z\"/>\n",
              "  </svg>\n",
              "    </button>\n",
              "\n",
              "  <style>\n",
              "    .colab-df-container {\n",
              "      display:flex;\n",
              "      gap: 12px;\n",
              "    }\n",
              "\n",
              "    .colab-df-convert {\n",
              "      background-color: #E8F0FE;\n",
              "      border: none;\n",
              "      border-radius: 50%;\n",
              "      cursor: pointer;\n",
              "      display: none;\n",
              "      fill: #1967D2;\n",
              "      height: 32px;\n",
              "      padding: 0 0 0 0;\n",
              "      width: 32px;\n",
              "    }\n",
              "\n",
              "    .colab-df-convert:hover {\n",
              "      background-color: #E2EBFA;\n",
              "      box-shadow: 0px 1px 2px rgba(60, 64, 67, 0.3), 0px 1px 3px 1px rgba(60, 64, 67, 0.15);\n",
              "      fill: #174EA6;\n",
              "    }\n",
              "\n",
              "    .colab-df-buttons div {\n",
              "      margin-bottom: 4px;\n",
              "    }\n",
              "\n",
              "    [theme=dark] .colab-df-convert {\n",
              "      background-color: #3B4455;\n",
              "      fill: #D2E3FC;\n",
              "    }\n",
              "\n",
              "    [theme=dark] .colab-df-convert:hover {\n",
              "      background-color: #434B5C;\n",
              "      box-shadow: 0px 1px 3px 1px rgba(0, 0, 0, 0.15);\n",
              "      filter: drop-shadow(0px 1px 2px rgba(0, 0, 0, 0.3));\n",
              "      fill: #FFFFFF;\n",
              "    }\n",
              "  </style>\n",
              "\n",
              "    <script>\n",
              "      const buttonEl =\n",
              "        document.querySelector('#df-ea418e38-56e3-4bcb-a351-e7a83137d479 button.colab-df-convert');\n",
              "      buttonEl.style.display =\n",
              "        google.colab.kernel.accessAllowed ? 'block' : 'none';\n",
              "\n",
              "      async function convertToInteractive(key) {\n",
              "        const element = document.querySelector('#df-ea418e38-56e3-4bcb-a351-e7a83137d479');\n",
              "        const dataTable =\n",
              "          await google.colab.kernel.invokeFunction('convertToInteractive',\n",
              "                                                    [key], {});\n",
              "        if (!dataTable) return;\n",
              "\n",
              "        const docLinkHtml = 'Like what you see? Visit the ' +\n",
              "          '<a target=\"_blank\" href=https://colab.research.google.com/notebooks/data_table.ipynb>data table notebook</a>'\n",
              "          + ' to learn more about interactive tables.';\n",
              "        element.innerHTML = '';\n",
              "        dataTable['output_type'] = 'display_data';\n",
              "        await google.colab.output.renderOutput(dataTable, element);\n",
              "        const docLink = document.createElement('div');\n",
              "        docLink.innerHTML = docLinkHtml;\n",
              "        element.appendChild(docLink);\n",
              "      }\n",
              "    </script>\n",
              "  </div>\n",
              "\n",
              "\n",
              "    <div id=\"df-98654f99-d0a2-44cf-8b7d-e720321824f6\">\n",
              "      <button class=\"colab-df-quickchart\" onclick=\"quickchart('df-98654f99-d0a2-44cf-8b7d-e720321824f6')\"\n",
              "                title=\"Suggest charts\"\n",
              "                style=\"display:none;\">\n",
              "\n",
              "<svg xmlns=\"http://www.w3.org/2000/svg\" height=\"24px\"viewBox=\"0 0 24 24\"\n",
              "     width=\"24px\">\n",
              "    <g>\n",
              "        <path d=\"M19 3H5c-1.1 0-2 .9-2 2v14c0 1.1.9 2 2 2h14c1.1 0 2-.9 2-2V5c0-1.1-.9-2-2-2zM9 17H7v-7h2v7zm4 0h-2V7h2v10zm4 0h-2v-4h2v4z\"/>\n",
              "    </g>\n",
              "</svg>\n",
              "      </button>\n",
              "\n",
              "<style>\n",
              "  .colab-df-quickchart {\n",
              "      --bg-color: #E8F0FE;\n",
              "      --fill-color: #1967D2;\n",
              "      --hover-bg-color: #E2EBFA;\n",
              "      --hover-fill-color: #174EA6;\n",
              "      --disabled-fill-color: #AAA;\n",
              "      --disabled-bg-color: #DDD;\n",
              "  }\n",
              "\n",
              "  [theme=dark] .colab-df-quickchart {\n",
              "      --bg-color: #3B4455;\n",
              "      --fill-color: #D2E3FC;\n",
              "      --hover-bg-color: #434B5C;\n",
              "      --hover-fill-color: #FFFFFF;\n",
              "      --disabled-bg-color: #3B4455;\n",
              "      --disabled-fill-color: #666;\n",
              "  }\n",
              "\n",
              "  .colab-df-quickchart {\n",
              "    background-color: var(--bg-color);\n",
              "    border: none;\n",
              "    border-radius: 50%;\n",
              "    cursor: pointer;\n",
              "    display: none;\n",
              "    fill: var(--fill-color);\n",
              "    height: 32px;\n",
              "    padding: 0;\n",
              "    width: 32px;\n",
              "  }\n",
              "\n",
              "  .colab-df-quickchart:hover {\n",
              "    background-color: var(--hover-bg-color);\n",
              "    box-shadow: 0 1px 2px rgba(60, 64, 67, 0.3), 0 1px 3px 1px rgba(60, 64, 67, 0.15);\n",
              "    fill: var(--button-hover-fill-color);\n",
              "  }\n",
              "\n",
              "  .colab-df-quickchart-complete:disabled,\n",
              "  .colab-df-quickchart-complete:disabled:hover {\n",
              "    background-color: var(--disabled-bg-color);\n",
              "    fill: var(--disabled-fill-color);\n",
              "    box-shadow: none;\n",
              "  }\n",
              "\n",
              "  .colab-df-spinner {\n",
              "    border: 2px solid var(--fill-color);\n",
              "    border-color: transparent;\n",
              "    border-bottom-color: var(--fill-color);\n",
              "    animation:\n",
              "      spin 1s steps(1) infinite;\n",
              "  }\n",
              "\n",
              "  @keyframes spin {\n",
              "    0% {\n",
              "      border-color: transparent;\n",
              "      border-bottom-color: var(--fill-color);\n",
              "      border-left-color: var(--fill-color);\n",
              "    }\n",
              "    20% {\n",
              "      border-color: transparent;\n",
              "      border-left-color: var(--fill-color);\n",
              "      border-top-color: var(--fill-color);\n",
              "    }\n",
              "    30% {\n",
              "      border-color: transparent;\n",
              "      border-left-color: var(--fill-color);\n",
              "      border-top-color: var(--fill-color);\n",
              "      border-right-color: var(--fill-color);\n",
              "    }\n",
              "    40% {\n",
              "      border-color: transparent;\n",
              "      border-right-color: var(--fill-color);\n",
              "      border-top-color: var(--fill-color);\n",
              "    }\n",
              "    60% {\n",
              "      border-color: transparent;\n",
              "      border-right-color: var(--fill-color);\n",
              "    }\n",
              "    80% {\n",
              "      border-color: transparent;\n",
              "      border-right-color: var(--fill-color);\n",
              "      border-bottom-color: var(--fill-color);\n",
              "    }\n",
              "    90% {\n",
              "      border-color: transparent;\n",
              "      border-bottom-color: var(--fill-color);\n",
              "    }\n",
              "  }\n",
              "</style>\n",
              "\n",
              "      <script>\n",
              "        async function quickchart(key) {\n",
              "          const quickchartButtonEl =\n",
              "            document.querySelector('#' + key + ' button');\n",
              "          quickchartButtonEl.disabled = true;  // To prevent multiple clicks.\n",
              "          quickchartButtonEl.classList.add('colab-df-spinner');\n",
              "          try {\n",
              "            const charts = await google.colab.kernel.invokeFunction(\n",
              "                'suggestCharts', [key], {});\n",
              "          } catch (error) {\n",
              "            console.error('Error during call to suggestCharts:', error);\n",
              "          }\n",
              "          quickchartButtonEl.classList.remove('colab-df-spinner');\n",
              "          quickchartButtonEl.classList.add('colab-df-quickchart-complete');\n",
              "        }\n",
              "        (() => {\n",
              "          let quickchartButtonEl =\n",
              "            document.querySelector('#df-98654f99-d0a2-44cf-8b7d-e720321824f6 button');\n",
              "          quickchartButtonEl.style.display =\n",
              "            google.colab.kernel.accessAllowed ? 'block' : 'none';\n",
              "        })();\n",
              "      </script>\n",
              "    </div>\n",
              "\n",
              "    </div>\n",
              "  </div>\n"
            ],
            "application/vnd.google.colaboratory.intrinsic+json": {
              "type": "dataframe",
              "variable_name": "features_to_cluster",
              "summary": "{\n  \"name\": \"features_to_cluster\",\n  \"rows\": 500,\n  \"fields\": [\n    {\n      \"column\": \"Feature_1\",\n      \"properties\": {\n        \"dtype\": \"number\",\n        \"std\": 3.3068611868122586,\n        \"min\": -14.795454951991525,\n        \"max\": 2.5492467573872597,\n        \"num_unique_values\": 500,\n        \"samples\": [\n          -0.849703965810086,\n          -9.752964369808165,\n          -5.322526459674029\n        ],\n        \"semantic_type\": \"\",\n        \"description\": \"\"\n      }\n    },\n    {\n      \"column\": \"Feature_2\",\n      \"properties\": {\n        \"dtype\": \"number\",\n        \"std\": 8.556070861214248,\n        \"min\": -12.252888019524015,\n        \"max\": 12.83452292935803,\n        \"num_unique_values\": 500,\n        \"samples\": [\n          10.171743352150326,\n          10.144424929198372,\n          -8.08019161681096\n        ],\n        \"semantic_type\": \"\",\n        \"description\": \"\"\n      }\n    },\n    {\n      \"column\": \"Feature_3\",\n      \"properties\": {\n        \"dtype\": \"number\",\n        \"std\": 1.9085337027619333,\n        \"min\": 0.5284465695385485,\n        \"max\": 11.771038443079787,\n        \"num_unique_values\": 500,\n        \"samples\": [\n          3.5548702125512506,\n          6.070777824720612,\n          9.287732260024772\n        ],\n        \"semantic_type\": \"\",\n        \"description\": \"\"\n      }\n    },\n    {\n      \"column\": \"Feature_4\",\n      \"properties\": {\n        \"dtype\": \"number\",\n        \"std\": 3.961939807787129,\n        \"min\": -9.216993383361775,\n        \"max\": 6.140639246269393,\n        \"num_unique_values\": 500,\n        \"samples\": [\n          5.6239418015443565,\n          -5.122539070563139,\n          1.1700867401126738\n        ],\n        \"semantic_type\": \"\",\n        \"description\": \"\"\n      }\n    },\n    {\n      \"column\": \"Feature_5\",\n      \"properties\": {\n        \"dtype\": \"number\",\n        \"std\": 5.268012607542356,\n        \"min\": -10.43420930537794,\n        \"max\": 8.568080826672569,\n        \"num_unique_values\": 500,\n        \"samples\": [\n          -9.534991973664109,\n          -7.660087262229259,\n          1.4152988833286098\n        ],\n        \"semantic_type\": \"\",\n        \"description\": \"\"\n      }\n    }\n  ]\n}"
            }
          },
          "metadata": {},
          "execution_count": 13
        }
      ]
    },
    {
      "cell_type": "code",
      "source": [
        "# Initialize and fit the StandardScaler\n",
        "# This will transform the data such that each feature has a mean of 0 and a standard deviation of 1.\n",
        "scaler= StandardScaler()\n",
        "scaled_features=scaler.fit_transform(features_to_cluster)"
      ],
      "metadata": {
        "id": "0L24lQ9DOAgp"
      },
      "execution_count": 14,
      "outputs": []
    },
    {
      "cell_type": "code",
      "source": [
        "scaled_features"
      ],
      "metadata": {
        "colab": {
          "base_uri": "https://localhost:8080/"
        },
        "id": "gFZ3i-R_OYgw",
        "outputId": "1689f971-ceaf-4b45-e9fe-9a9126e77181"
      },
      "execution_count": 15,
      "outputs": [
        {
          "output_type": "execute_result",
          "data": {
            "text/plain": [
              "array([[-1.07039133,  0.74546814,  0.0859273 , -1.58466105, -0.90798501],\n",
              "       [-0.52251206,  0.61451192,  0.08731966, -0.95761934, -0.68801347],\n",
              "       [ 0.78222538,  0.4223533 , -1.04593191,  0.20984645, -0.76407462],\n",
              "       ...,\n",
              "       [ 0.14922774, -1.22161917,  0.65212732,  0.82409945,  1.98001159],\n",
              "       [ 1.16073493,  0.7636525 , -0.01629411,  0.39814317, -0.84828797],\n",
              "       [-0.70166364, -1.61902103,  1.11350971,  1.38647649,  1.30212699]])"
            ]
          },
          "metadata": {},
          "execution_count": 15
        }
      ]
    },
    {
      "cell_type": "code",
      "source": [
        "# We can also inspect the first few rows of the scaled data to see the effect\n",
        "print(\"\\nFirst 5 rows of scaled data:\")\n",
        "print(pd.DataFrame(scaled_features, columns=features_to_cluster.columns).head())"
      ],
      "metadata": {
        "colab": {
          "base_uri": "https://localhost:8080/"
        },
        "id": "EN83fyxpOaJ5",
        "outputId": "ed27a3a4-9ee0-47c5-d99d-780e9530db7c"
      },
      "execution_count": 16,
      "outputs": [
        {
          "output_type": "stream",
          "name": "stdout",
          "text": [
            "\n",
            "First 5 rows of scaled data:\n",
            "   Feature_1  Feature_2  Feature_3  Feature_4  Feature_5\n",
            "0  -1.070391   0.745468   0.085927  -1.584661  -0.907985\n",
            "1  -0.522512   0.614512   0.087320  -0.957619  -0.688013\n",
            "2   0.782225   0.422353  -1.045932   0.209846  -0.764075\n",
            "3  -0.419397  -1.394069   0.025822   0.599158   1.081389\n",
            "4  -0.569398   0.656820   0.745178  -1.518865  -0.469605\n"
          ]
        }
      ]
    },
    {
      "cell_type": "markdown",
      "source": [
        "## The Elbow Method"
      ],
      "metadata": {
        "id": "arZlptU7PBJ9"
      }
    },
    {
      "cell_type": "code",
      "source": [
        "# --- 3. Determining the Optimal Number of Clusters (k) using the Elbow Method ---\n",
        "# The Elbow Method helps us find a good number of clusters. It plots the\n",
        "# sum of squared distances from each point to its assigned cluster center,\n",
        "# and we look for an \"elbow\" in the plot.\n",
        "print(\"\\nRunning the Elbow Method to find the optimal number of clusters...\")"
      ],
      "metadata": {
        "colab": {
          "base_uri": "https://localhost:8080/"
        },
        "id": "GW9ZdhDwO0xl",
        "outputId": "549bbc69-5e7e-4e33-dc99-03b492dc67b5"
      },
      "execution_count": 17,
      "outputs": [
        {
          "output_type": "stream",
          "name": "stdout",
          "text": [
            "\n",
            "Running the Elbow Method to find the optimal number of clusters...\n"
          ]
        }
      ]
    },
    {
      "cell_type": "code",
      "source": [
        "from sklearn.cluster import KMeans"
      ],
      "metadata": {
        "id": "OCNM6LNPQKCl"
      },
      "execution_count": 18,
      "outputs": []
    },
    {
      "cell_type": "code",
      "source": [
        "sse=[]\n",
        "k_range=range(1,11)\n",
        "\n",
        "for k in k_range:\n",
        "    kmeans=KMeans(n_clusters=k, random_state=42, n_init=10)\n",
        "    kmeans.fit(scaled_features)\n",
        "    sse.append(kmeans.inertia_)"
      ],
      "metadata": {
        "id": "Ysg4Sz1rPvNV"
      },
      "execution_count": 19,
      "outputs": []
    },
    {
      "cell_type": "code",
      "source": [
        "plt.plot(range(1, 11), sse, marker='o')\n",
        "plt.xlabel('Number of clusters (k)')\n",
        "plt.ylabel('WCSS')\n",
        "plt.title('Elbow Method')\n",
        "plt.show()"
      ],
      "metadata": {
        "colab": {
          "base_uri": "https://localhost:8080/",
          "height": 472
        },
        "id": "bgHHw0glP_X2",
        "outputId": "13ae66f0-25cd-4169-fa90-15226b027578"
      },
      "execution_count": 20,
      "outputs": [
        {
          "output_type": "display_data",
          "data": {
            "text/plain": [
              "<Figure size 640x480 with 1 Axes>"
            ],
            "image/png": "[encoded data removed]"
          },
          "metadata": {}
        }
      ]
    },
    {
      "cell_type": "code",
      "source": [
        "print(\"Based on the plot, a good choice for 'k' is where the curve begins to flatten.\")\n",
        "print(\"For this synthetic data, it's visually apparent that k=3 is the optimal number.\")"
      ],
      "metadata": {
        "colab": {
          "base_uri": "https://localhost:8080/"
        },
        "id": "1WmV45FYQlCF",
        "outputId": "7bad8326-fa0d-4f39-90ba-e7c7be15524a"
      },
      "execution_count": 21,
      "outputs": [
        {
          "output_type": "stream",
          "name": "stdout",
          "text": [
            "Based on the plot, a good choice for 'k' is where the curve begins to flatten.\n",
            "For this synthetic data, it's visually apparent that k=3 is the optimal number.\n"
          ]
        }
      ]
    },
    {
      "cell_type": "markdown",
      "source": [
        "## K-Means Clustering and Silhouette Score"
      ],
      "metadata": {
        "id": "pdm87-_ARaVD"
      }
    },
    {
      "cell_type": "code",
      "source": [
        "from sklearn.metrics import silhouette_score"
      ],
      "metadata": {
        "id": "XZutobg7Q-tJ"
      },
      "execution_count": 22,
      "outputs": []
    },
    {
      "cell_type": "code",
      "source": [],
      "metadata": {
        "id": "dbGDh6lRR7RT"
      },
      "execution_count": 28,
      "outputs": []
    },
    {
      "cell_type": "code",
      "source": [
        "k = 3\n",
        "kmeans = KMeans(n_clusters=k, random_state=42, n_init=10)\n",
        "cluster_labels = kmeans.fit_predict(scaled_features)\n"
      ],
      "metadata": {
        "id": "pHFw6kHXSCkN"
      },
      "execution_count": 29,
      "outputs": []
    },
    {
      "cell_type": "code",
      "source": [
        "# Add the cluster labels back to the original dataframe\n",
        "customer_data['Cluster']=cluster_labels"
      ],
      "metadata": {
        "id": "Pi1N1V0ZSqyA"
      },
      "execution_count": 30,
      "outputs": []
    },
    {
      "cell_type": "code",
      "source": [
        "cluster_labels"
      ],
      "metadata": {
        "colab": {
          "base_uri": "https://localhost:8080/"
        },
        "id": "GUyYTB4DhVL2",
        "outputId": "14611754-a4ec-4807-81bf-daf7c7b24e4c"
      },
      "execution_count": 31,
      "outputs": [
        {
          "output_type": "execute_result",
          "data": {
            "text/plain": [
              "array([2, 2, 0, 1, 2, 0, 0, 1, 1, 0, 0, 0, 1, 2, 2, 2, 1, 1, 0, 2, 0, 1,\n",
              "       1, 2, 0, 2, 1, 1, 2, 1, 1, 0, 1, 2, 0, 0, 1, 1, 2, 2, 0, 2, 1, 2,\n",
              "       0, 0, 2, 1, 0, 0, 0, 1, 0, 1, 1, 1, 1, 0, 1, 2, 1, 2, 1, 1, 1, 0,\n",
              "       2, 2, 2, 2, 1, 0, 0, 2, 1, 2, 1, 2, 2, 0, 0, 1, 0, 0, 1, 0, 0, 0,\n",
              "       2, 0, 2, 1, 0, 2, 2, 2, 2, 0, 2, 1, 0, 1, 0, 2, 1, 2, 0, 2, 0, 1,\n",
              "       1, 2, 0, 1, 0, 1, 1, 1, 0, 1, 2, 0, 2, 2, 1, 0, 2, 1, 2, 0, 2, 1,\n",
              "       2, 2, 0, 0, 1, 0, 0, 1, 0, 0, 1, 1, 0, 0, 1, 2, 2, 1, 1, 1, 0, 0,\n",
              "       0, 0, 2, 2, 1, 1, 0, 2, 2, 0, 2, 0, 0, 1, 1, 1, 0, 0, 1, 0, 0, 1,\n",
              "       2, 0, 0, 2, 1, 1, 2, 2, 0, 0, 1, 0, 0, 1, 1, 2, 1, 2, 1, 0, 2, 2,\n",
              "       0, 1, 1, 2, 2, 2, 2, 2, 2, 2, 0, 2, 0, 2, 0, 0, 1, 1, 2, 0, 1, 1,\n",
              "       1, 0, 0, 1, 1, 0, 2, 2, 2, 1, 2, 1, 2, 0, 1, 1, 0, 1, 1, 0, 0, 0,\n",
              "       2, 0, 0, 2, 2, 0, 1, 1, 1, 1, 0, 0, 1, 0, 0, 0, 1, 0, 2, 2, 1, 1,\n",
              "       0, 2, 1, 2, 1, 0, 1, 1, 1, 2, 0, 0, 0, 2, 0, 2, 0, 0, 1, 0, 0, 2,\n",
              "       2, 2, 0, 1, 2, 0, 2, 2, 0, 0, 2, 0, 2, 2, 1, 1, 2, 2, 1, 1, 0, 1,\n",
              "       0, 2, 1, 0, 2, 1, 0, 1, 2, 2, 2, 0, 0, 0, 0, 1, 2, 1, 2, 2, 2, 0,\n",
              "       1, 1, 2, 1, 0, 2, 2, 2, 0, 1, 1, 1, 2, 2, 1, 2, 1, 1, 2, 2, 2, 2,\n",
              "       0, 0, 2, 2, 1, 2, 1, 2, 0, 0, 0, 1, 0, 0, 2, 0, 0, 2, 2, 1, 0, 2,\n",
              "       1, 2, 1, 0, 1, 0, 2, 0, 1, 1, 0, 1, 0, 1, 0, 1, 2, 1, 2, 1, 2, 1,\n",
              "       0, 0, 0, 1, 1, 2, 2, 0, 1, 0, 0, 1, 0, 2, 1, 2, 2, 2, 1, 1, 1, 2,\n",
              "       2, 2, 0, 2, 1, 1, 0, 0, 0, 1, 2, 0, 2, 2, 2, 0, 0, 1, 2, 1, 1, 0,\n",
              "       1, 2, 0, 1, 1, 1, 0, 2, 1, 0, 1, 2, 1, 1, 0, 0, 1, 2, 0, 1, 2, 1,\n",
              "       1, 1, 2, 0, 1, 1, 2, 0, 2, 2, 2, 0, 2, 2, 2, 2, 2, 2, 1, 1, 0, 2,\n",
              "       2, 1, 1, 0, 2, 0, 0, 2, 2, 2, 0, 0, 0, 1, 0, 1], dtype=int32)"
            ]
          },
          "metadata": {},
          "execution_count": 31
        }
      ]
    },
    {
      "cell_type": "code",
      "source": [
        "print(\"Clustering complete. The 'Cluster' column has been added to the dataframe.\")\n",
        "print(\"\\nCustomer counts per cluster:\")\n",
        "print(customer_data['Cluster'].value_counts())"
      ],
      "metadata": {
        "colab": {
          "base_uri": "https://localhost:8080/"
        },
        "id": "6dJnFgaxhYgd",
        "outputId": "0ec5e83f-744b-4d8f-bee4-1626cdde79d4"
      },
      "execution_count": 32,
      "outputs": [
        {
          "output_type": "stream",
          "name": "stdout",
          "text": [
            "Clustering complete. The 'Cluster' column has been added to the dataframe.\n",
            "\n",
            "Customer counts per cluster:\n",
            "Cluster\n",
            "0    167\n",
            "1    167\n",
            "2    166\n",
            "Name: count, dtype: int64\n"
          ]
        }
      ]
    },
    {
      "cell_type": "code",
      "source": [
        "# --- 5. Evaluating the Clustering with the Silhouette Score ---\n",
        "# The Silhouette Score measures how similar a data point is to its own cluster\n",
        "# compared to other clusters. The score ranges from -1 to 1, where a higher score\n",
        "# indicates better-defined clusters."
      ],
      "metadata": {
        "id": "NvxaGqLZixgI"
      },
      "execution_count": 34,
      "outputs": []
    },
    {
      "cell_type": "code",
      "source": [
        "score=silhouette_score(scaled_features, cluster_labels)"
      ],
      "metadata": {
        "id": "2BcEk88_i4Wc"
      },
      "execution_count": 35,
      "outputs": []
    },
    {
      "cell_type": "code",
      "source": [
        "score"
      ],
      "metadata": {
        "colab": {
          "base_uri": "https://localhost:8080/"
        },
        "id": "6W9k8v2tjIgr",
        "outputId": "3373b67b-9218-4d23-8106-f38dfcf14e7c"
      },
      "execution_count": 36,
      "outputs": [
        {
          "output_type": "execute_result",
          "data": {
            "text/plain": [
              "np.float64(0.6063666690033696)"
            ]
          },
          "metadata": {},
          "execution_count": 36
        }
      ]
    },
    {
      "cell_type": "code",
      "source": [
        "from sklearn.decomposition import PCA"
      ],
      "metadata": {
        "id": "MYCT324OjJ3p"
      },
      "execution_count": 37,
      "outputs": []
    },
    {
      "cell_type": "code",
      "source": [
        "pca=PCA(n_components=2, random_state=42)\n",
        "principal_components=pca.fit_transform(scaled_features)"
      ],
      "metadata": {
        "id": "dlPmIAWQja6w"
      },
      "execution_count": 38,
      "outputs": []
    },
    {
      "cell_type": "code",
      "source": [
        "# Create a DataFrame for the principal components\n",
        "pca_df=pd.DataFrame(data=principal_components, columns=['PC1', 'PC2'])\n",
        "pca_df['Cluster']=cluster_labels\n",
        "print(\"PCA completed. The data is now ready for visualization.\")"
      ],
      "metadata": {
        "colab": {
          "base_uri": "https://localhost:8080/"
        },
        "id": "Cf7VhsVjjt1p",
        "outputId": "9471b7e3-030b-4c16-d1e8-14812006fcd5"
      },
      "execution_count": 40,
      "outputs": [
        {
          "output_type": "stream",
          "name": "stdout",
          "text": [
            "PCA completed. The data is now ready for visualization.\n"
          ]
        }
      ]
    },
    {
      "cell_type": "code",
      "source": [
        "# A scatter plot of the first two principal components, colored by their\n",
        "# assigned cluster, provides a clear visual of the segmentation.\n",
        "plt.figure(figsize=(10,8))\n",
        "sns.scatterplot(x='PC1', y='PC2', hue='Cluster', data=pca_df,\n",
        "                palette='viridis', style='Cluster', s=100, alpha=0.8)\n",
        "plt.title('Customer Segments (K-Means) visualized with PCA')\n",
        "plt.xlabel('Principal Component 1 (PC1)')\n",
        "plt.ylabel('Principal Component 2 (PC2)')\n",
        "plt.legend(title='Cluster')\n",
        "plt.grid(True)\n",
        "plt.show()"
      ],
      "metadata": {
        "colab": {
          "base_uri": "https://localhost:8080/",
          "height": 718
        },
        "id": "uaDbShn7jye9",
        "outputId": "d3c27fab-071b-43fc-f989-637b2f015aa3"
      },
      "execution_count": 41,
      "outputs": [
        {
          "output_type": "display_data",
          "data": {
            "text/plain": [
              "<Figure size 1000x800 with 1 Axes>"
            ],
            "image/png": "[encoded data removed]"
          },
          "metadata": {}
        }
      ]
    },
    {
      "cell_type": "code",
      "source": [],
      "metadata": {
        "id": "d_mun1eTlSiZ"
      },
      "execution_count": null,
      "outputs": []
    }
  ]
}